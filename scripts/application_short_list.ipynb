{
 "cells": [
  {
   "cell_type": "code",
   "execution_count": 11,
   "metadata": {},
   "outputs": [],
   "source": [
    "import os\n",
    "import pandas as pd"
   ]
  },
  {
   "cell_type": "code",
   "execution_count": 12,
   "metadata": {},
   "outputs": [],
   "source": [
    "mac = pd.read_csv('../data/processed/macro_overperformers.csv')\n",
    "pub = pd.read_csv('../data/processed/public_overperformers.csv')\n",
    "urb = pd.read_csv('../data/processed/urban_overperformers.csv')\n",
    "\n",
    "within_macros = mac.merge(pub, how='left', on='schools').merge(urb, how='left', on='schools')\n",
    "within_macros['combined'] = within_macros['us_overall_rank_x'] + within_macros['us_macro_rank'] + within_macros['us_public_rank'] + within_macros['us_urban_rank']\n",
    "within_macros[['schools','combined']].sort_values('combined').to_csv('../data/processed/short_list/within_macros.csv')\n",
    "\n",
    "within_public = pub.merge(mac, how='left', on='schools').merge(urb, how='left', on='schools')\n",
    "within_public['combined'] = within_public['us_overall_rank_x'] + within_public['us_macro_rank'] + within_public['us_public_rank'] + within_public['us_urban_rank']\n",
    "within_public[['schools','combined']].sort_values('combined').to_csv('../data/processed/short_list/within_public.csv')\n",
    "\n",
    "within_urban = urb.merge(mac, how='left', on='schools').merge(pub, how='left', on='schools')\n",
    "within_urban['combined'] = within_urban['us_overall_rank_x'] + within_urban['us_macro_rank'] + within_urban['us_public_rank'] + within_urban['us_urban_rank']\n",
    "within_urban[['schools','combined']].sort_values('combined').to_csv('../data/processed/short_list/within_urban.csv')"
   ]
  }
 ],
 "metadata": {
  "interpreter": {
   "hash": "5b3ded1ccb95c1d9bd405e7b823d9e85424cde40fbb5985eb47e999ef50e15b4"
  },
  "kernelspec": {
   "display_name": "Python 3.8.10 64-bit",
   "language": "python",
   "name": "python3"
  },
  "language_info": {
   "codemirror_mode": {
    "name": "ipython",
    "version": 3
   },
   "file_extension": ".py",
   "mimetype": "text/x-python",
   "name": "python",
   "nbconvert_exporter": "python",
   "pygments_lexer": "ipython3",
   "version": "3.8.10"
  },
  "orig_nbformat": 4
 },
 "nbformat": 4,
 "nbformat_minor": 2
}
