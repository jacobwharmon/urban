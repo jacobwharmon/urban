{
 "cells": [
  {
   "cell_type": "code",
   "execution_count": 15,
   "metadata": {},
   "outputs": [],
   "source": [
    "import os\n",
    "import pandas as pd\n",
    "import numpy as np\n",
    "import requests\n",
    "from bs4 import BeautifulSoup"
   ]
  },
  {
   "cell_type": "code",
   "execution_count": null,
   "metadata": {},
   "outputs": [],
   "source": []
  },
  {
   "cell_type": "code",
   "execution_count": 16,
   "metadata": {},
   "outputs": [],
   "source": [
    "us_programs = \"https://ideas.repec.org/top/top.usecondept.html\"\n",
    "urban_programs = \"https://ideas.repec.org/top/top.ure.html\"\n",
    "macro_programs = \"https://ideas.repec.org/top/top.mac.html\"\n",
    "public_programs = \"https://ideas.repec.org/top/top.pub.html\"\n",
    "\n",
    "us_html = requests.get(us_programs).text\n",
    "urban_html = requests.get(urban_programs).text\n",
    "macro_html = requests.get(macro_programs).text\n",
    "public_html = requests.get(public_programs).text"
   ]
  },
  {
   "cell_type": "code",
   "execution_count": 17,
   "metadata": {},
   "outputs": [],
   "source": [
    "us_soup = BeautifulSoup(us_html, \"html.parser\")\n",
    "\n",
    "school_name = []\n",
    "rank = []\n",
    "\n",
    "for row in range(5,141):\n",
    "    rank.append(row-4)\n",
    "    school_name.append(us_soup.find_all('tr')[row].find_all('td')[1].text)\n",
    "    \n",
    "us_rankings_raw = pd.DataFrame({'school_name':school_name, 'overall_rank':rank})\n",
    "us_rankings = us_rankings_raw.copy()"
   ]
  },
  {
   "cell_type": "code",
   "execution_count": 18,
   "metadata": {},
   "outputs": [],
   "source": [
    "urban_soup = BeautifulSoup(urban_html, \"html.parser\")\n",
    "\n",
    "school_name = []\n",
    "rank = []\n",
    "\n",
    "for row in range(5,479):\n",
    "    rank.append(row-4)\n",
    "    school_name.append(urban_soup.find_all('tr')[row].find_all('td')[1].text)\n",
    "    \n",
    "urban_rankings_raw = pd.DataFrame({'school_name':school_name, 'rank_urban':rank})\n",
    "urban_rankings = urban_rankings_raw.copy()\n",
    "urban_rankings = urban_rankings[urban_rankings['school_name'].apply(lambda x: \"(USA)\" in x)]\n",
    "urban_rankings = urban_rankings.reset_index()\n",
    "urban_rankings['us_urban_rank'] = urban_rankings.index + 1\n",
    "urban_rankings = urban_rankings.drop(columns=['index'])"
   ]
  },
  {
   "cell_type": "code",
   "execution_count": 19,
   "metadata": {},
   "outputs": [],
   "source": [
    "public_soup = BeautifulSoup(public_html, \"html.parser\")\n",
    "\n",
    "school_name = []\n",
    "rank = []\n",
    "\n",
    "for row in range(5,244):\n",
    "    rank.append(row-4)\n",
    "    school_name.append(public_soup.find_all('tr')[row].find_all('td')[1].text)\n",
    "    \n",
    "public_rankings_raw = pd.DataFrame({'school_name':school_name, 'rank_public':rank})\n",
    "public_rankings = public_rankings_raw.copy()\n",
    "public_rankings = public_rankings[public_rankings['school_name'].apply(lambda x: \"(USA)\" in x)]\n",
    "public_rankings = public_rankings.reset_index()\n",
    "public_rankings['us_public_rank'] = public_rankings.index + 1\n",
    "public_rankings = public_rankings.drop(columns=['index'])"
   ]
  },
  {
   "cell_type": "code",
   "execution_count": 20,
   "metadata": {},
   "outputs": [],
   "source": [
    "macro_soup = BeautifulSoup(macro_html, \"html.parser\")\n",
    "\n",
    "school_name = []\n",
    "rank = []\n",
    "\n",
    "for row in range(5,479):\n",
    "    rank.append(row-4)\n",
    "    school_name.append(macro_soup.find_all('tr')[row].find_all('td')[1].text)\n",
    "    \n",
    "macro_rankings_raw = pd.DataFrame({'school_name':school_name, 'rank_macro':rank})\n",
    "macro_rankings = macro_rankings_raw.copy()\n",
    "macro_rankings = macro_rankings[macro_rankings['school_name'].apply(lambda x: \"(USA)\" in x)]\n",
    "macro_rankings = macro_rankings.reset_index()\n",
    "macro_rankings['us_macro_rank'] = macro_rankings.index + 1\n",
    "macro_rankings = macro_rankings.drop(columns=['index'])"
   ]
  },
  {
   "cell_type": "code",
   "execution_count": 21,
   "metadata": {},
   "outputs": [],
   "source": [
    "merged = us_rankings.merge(urban_rankings, how='left', on='school_name')\n",
    "merged['rank_diff'] = merged['overall_rank'] - merged['us_urban_rank']\n",
    "merged = merged.sort_values('rank_diff', ascending=False)\n",
    "merged.to_csv('../data/urban_overperformers.csv')"
   ]
  },
  {
   "cell_type": "code",
   "execution_count": 22,
   "metadata": {},
   "outputs": [],
   "source": [
    "merged = us_rankings.merge(macro_rankings, how='left', on='school_name')\n",
    "merged['rank_diff'] = merged['overall_rank'] - merged['us_macro_rank']\n",
    "merged = merged.sort_values('rank_diff', ascending=False)\n",
    "merged.to_csv('../data/macro_overperformers.csv')"
   ]
  },
  {
   "cell_type": "code",
   "execution_count": 23,
   "metadata": {},
   "outputs": [],
   "source": [
    "merged = us_rankings.merge(public_rankings, how='left', on='school_name')\n",
    "merged['rank_diff'] = merged['overall_rank'] - merged['us_public_rank']\n",
    "merged = merged.sort_values('rank_diff', ascending=False)\n",
    "merged.to_csv('../data/public_overperformers.csv')"
   ]
  }
 ],
 "metadata": {
  "interpreter": {
   "hash": "5b3ded1ccb95c1d9bd405e7b823d9e85424cde40fbb5985eb47e999ef50e15b4"
  },
  "kernelspec": {
   "display_name": "Python 3.8.10 64-bit",
   "name": "python3"
  },
  "language_info": {
   "codemirror_mode": {
    "name": "ipython",
    "version": 3
   },
   "file_extension": ".py",
   "mimetype": "text/x-python",
   "name": "python",
   "nbconvert_exporter": "python",
   "pygments_lexer": "ipython3",
   "version": "3.8.10"
  },
  "orig_nbformat": 4
 },
 "nbformat": 4,
 "nbformat_minor": 2
}
