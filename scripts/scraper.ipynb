{
 "cells": [
  {
   "cell_type": "code",
   "execution_count": 1,
   "metadata": {},
   "outputs": [],
   "source": [
    "import os\n",
    "import pandas as pd\n",
    "import requests\n",
    "from bs4 import BeautifulSoup"
   ]
  },
  {
   "cell_type": "code",
   "execution_count": 2,
   "metadata": {},
   "outputs": [],
   "source": [
    "# SETTING URLS \n",
    "program_urls = {'us':\"https://ideas.repec.org/top/top.usecondept.html\",\n",
    "                'urban':\"https://ideas.repec.org/top/top.ure.html\",\n",
    "                'macro':\"https://ideas.repec.org/top/top.mac.html\",\n",
    "                'public':\"https://ideas.repec.org/top/top.pub.html\",\n",
    "                'labor':\"https://ideas.repec.org/top/top.lab.html\"}\n",
    "\n",
    "# COLLECTING RAW HTML TEXT FROM PAGE \n",
    "program_html = {}\n",
    "for emphasis,url in program_urls.items():\n",
    "    program_html[emphasis] = requests.get(url).text\n",
    "\n",
    "# PARSING HTML\n",
    "program_soup = {}\n",
    "for emphasis, html in program_html.items():\n",
    "    program_soup[emphasis] = BeautifulSoup(html, \"html.parser\")"
   ]
  },
  {
   "cell_type": "code",
   "execution_count": 3,
   "metadata": {},
   "outputs": [],
   "source": [
    "# ORGANIZING RAW HTML INTO EMPHASIS SCHOOL RANKINGS\n",
    "rankings_raw = {}\n",
    "\n",
    "for emphasis, soup in program_soup.items():\n",
    "    # For particular emphasis we find the number of rows in the table\n",
    "    n_rows = len(soup.find_all('table')[1].find_all('tr'))\n",
    "    rank = []\n",
    "    schools = []\n",
    "    \n",
    "    # For number of rows, we find the school name and assign it a rank\n",
    "    for row in range(1,n_rows):\n",
    "        schools.append(soup.find_all('table')[1].find_all('tr')[row].find_all('td')[1].text)\n",
    "        rank.append(row)\n",
    "    \n",
    "    # Construct nested dict for each emphasis made up of the school and its rank    \n",
    "    rankings_raw[emphasis] = {'schools':schools, 'rank':rank}"
   ]
  },
  {
   "cell_type": "code",
   "execution_count": 4,
   "metadata": {},
   "outputs": [],
   "source": [
    "# CLEANING INTO US ONLY DATAFRAMES\n",
    "dataframes_raw = {}\n",
    "\n",
    "for emphasis, info in rankings_raw.items():\n",
    "    temp_df = pd.DataFrame(info)\n",
    "    temp_df = temp_df[temp_df['schools'].apply(lambda x: \"(USA)\" in x)]\n",
    "    temp_df = temp_df.reset_index()\n",
    "    temp_df[f'us_{emphasis}_rank'] = temp_df.index + 1\n",
    "    temp_df = temp_df.drop(columns=['index'])\n",
    "    \n",
    "    dataframes_raw[emphasis] = temp_df"
   ]
  },
  {
   "cell_type": "code",
   "execution_count": 5,
   "metadata": {},
   "outputs": [],
   "source": [
    "# EXPORTING RAW INTO CSVs\n",
    "for emphasis, df in dataframes_raw.items():\n",
    "    df.to_csv(f'../data/raw/{emphasis}_rankings_raw.csv')\n",
    "    \n",
    "# CONSTRUCTING OVERACHIEVERS COLUMN and EXPORTING INTO CSVs\n",
    "us_raw = dataframes_raw.pop('us')\n",
    "us_raw = us_raw.rename(columns={'us_us_rank':'us_overall_rank'})\n",
    "for emphasis, df in dataframes_raw.items():\n",
    "    merged = us_raw.merge(df, how='left', on='schools')\n",
    "    merged['rank_diff'] = merged['us_overall_rank'] - merged[f'us_{emphasis}_rank']\n",
    "    merged = merged.sort_values('rank_diff', ascending=False)\n",
    "    merged.set_index('schools', inplace=True)\n",
    "    del merged['rank_x'], merged['rank_y']\n",
    "    merged.to_csv(f'../data/processed/{emphasis}_overperformers.csv')"
   ]
  }
 ],
 "metadata": {
  "interpreter": {
   "hash": "5b3ded1ccb95c1d9bd405e7b823d9e85424cde40fbb5985eb47e999ef50e15b4"
  },
  "kernelspec": {
   "display_name": "Python 3.8.10 64-bit",
   "name": "python3"
  },
  "language_info": {
   "codemirror_mode": {
    "name": "ipython",
    "version": 3
   },
   "file_extension": ".py",
   "mimetype": "text/x-python",
   "name": "python",
   "nbconvert_exporter": "python",
   "pygments_lexer": "ipython3",
   "version": "3.8.10"
  },
  "orig_nbformat": 4
 },
 "nbformat": 4,
 "nbformat_minor": 2
}
