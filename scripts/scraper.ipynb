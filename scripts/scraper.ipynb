{
 "cells": [
  {
   "cell_type": "code",
   "execution_count": 69,
   "metadata": {},
   "outputs": [],
   "source": [
    "import os\n",
    "import pandas as pd\n",
    "import numpy as np\n",
    "import requests\n",
    "from bs4 import BeautifulSoup"
   ]
  },
  {
   "cell_type": "code",
   "execution_count": 70,
   "metadata": {},
   "outputs": [],
   "source": [
    "us_programs = \"https://ideas.repec.org/top/top.usecondept.html\"\n",
    "urban_programs = \"https://ideas.repec.org/top/top.ure.html\"\n",
    "\n",
    "us_html = requests.get(us_programs).text\n",
    "urban_html = requests.get(urban_programs).text"
   ]
  },
  {
   "cell_type": "code",
   "execution_count": 91,
   "metadata": {},
   "outputs": [],
   "source": [
    "us_soup = BeautifulSoup(us_html, \"html.parser\")\n",
    "\n",
    "school_name = []\n",
    "rank = []\n",
    "\n",
    "for row in range(5,141):\n",
    "    rank.append(row-4)\n",
    "    school_name.append(us_soup.find_all('tr')[row].find_all('td')[1].text)\n",
    "    \n",
    "us_rankings_raw = pd.DataFrame({'school_name':school_name, 'overall_rank':rank})\n",
    "us_rankings = us_rankings_raw.copy()"
   ]
  },
  {
   "cell_type": "code",
   "execution_count": 92,
   "metadata": {},
   "outputs": [],
   "source": [
    "urban_soup = BeautifulSoup(urban_html, \"html.parser\")\n",
    "\n",
    "school_name = []\n",
    "rank = []\n",
    "\n",
    "for row in range(5,479):\n",
    "    rank.append(row-4)\n",
    "    school_name.append(urban_soup.find_all('tr')[row].find_all('td')[1].text)\n",
    "    \n",
    "urban_rankings_raw = pd.DataFrame({'school_name':school_name, 'rank_urban':rank})\n",
    "urban_rankings = urban_rankings_raw.copy()\n",
    "urban_rankings = urban_rankings[urban_rankings['school_name'].apply(lambda x: \"(USA)\" in x)]\n",
    "urban_rankings = urban_rankings.reset_index()\n",
    "urban_rankings['us_urban_rank'] = urban_rankings.index + 1\n",
    "urban_rankings = urban_rankings.drop(columns=['index'])"
   ]
  },
  {
   "cell_type": "code",
   "execution_count": 94,
   "metadata": {},
   "outputs": [],
   "source": [
    "merged = us_rankings.merge(urban_rankings, how='left', on='school_name')\n",
    "merged['rank_diff'] = merged['overall_rank'] - merged['us_urban_rank']\n",
    "merged = merged.sort_values('rank_diff', ascending=False)\n",
    "merged.to_csv('../data/urban_overperformers.csv')"
   ]
  }
 ],
 "metadata": {
  "interpreter": {
   "hash": "5b3ded1ccb95c1d9bd405e7b823d9e85424cde40fbb5985eb47e999ef50e15b4"
  },
  "kernelspec": {
   "display_name": "Python 3.8.10 64-bit",
   "name": "python3"
  },
  "language_info": {
   "codemirror_mode": {
    "name": "ipython",
    "version": 3
   },
   "file_extension": ".py",
   "mimetype": "text/x-python",
   "name": "python",
   "nbconvert_exporter": "python",
   "pygments_lexer": "ipython3",
   "version": "3.8.10"
  },
  "orig_nbformat": 4
 },
 "nbformat": 4,
 "nbformat_minor": 2
}
